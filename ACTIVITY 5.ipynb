{
 "cells": [
  {
   "cell_type": "code",
   "execution_count": 1,
   "metadata": {},
   "outputs": [],
   "source": [
    "# Create a single jupyter notebook and perform the following tasks in it. \n",
    "# Save it as PDF file and submit.\n",
    "#  1. Load the dataset and perform following pre-processing tasks: [2 pts]\n",
    "#       1.1 Remove the first column of ‘Unnamed: 0’\n",
    "#       1.2 Detect missing values, and replace them with the mean.\n",
    "#       1.3 Draw box-plots for each attribute to detect if there are any \n",
    "#           outliers. If there are outliers, ignore them for now.\n",
    "#       1.4 Normalize all attributes within the range of 0 to 1.\n",
    "#  2. Visualize through scatter plots the relationship of each attribute \n",
    "#     with the target attribute. [1 pt]\n",
    "#  3. Split the dataset into train (70%) and test (30%) [1 pt]\n",
    "#  4. Train the linear regression model and print the coefficients\n",
    "#     (parameters) learned by the final model. [2 pt]\n",
    "#  5. Print the confidence interval and p-value of each coefficient, \n",
    "#     and explain your interpretations. [2 pt]\n",
    "#  6. Evaluate the linear regression model and print the values of RMSE, \n",
    "#     MAE, and MSE. [1 pt]\n",
    "#  7. Plot residual curve and Q-Q plot. [1 pt] \n"
   ]
  },
  {
   "cell_type": "code",
   "execution_count": 2,
   "metadata": {},
   "outputs": [],
   "source": [
    "import pandas as pd\n",
    "import numpy as np\n",
    "import matplotlib.pyplot as plt\n",
    "from sklearn import preprocessing as pr\n",
    "import seaborn as sns\n",
    "import statsmodels.api as sm\n",
    "import statsmodels.formula.api as smf"
   ]
  },
  {
   "cell_type": "code",
   "execution_count": 3,
   "metadata": {},
   "outputs": [
    {
     "data": {
      "text/html": [
       "<div>\n",
       "<style scoped>\n",
       "    .dataframe tbody tr th:only-of-type {\n",
       "        vertical-align: middle;\n",
       "    }\n",
       "\n",
       "    .dataframe tbody tr th {\n",
       "        vertical-align: top;\n",
       "    }\n",
       "\n",
       "    .dataframe thead th {\n",
       "        text-align: right;\n",
       "    }\n",
       "</style>\n",
       "<table border=\"1\" class=\"dataframe\">\n",
       "  <thead>\n",
       "    <tr style=\"text-align: right;\">\n",
       "      <th></th>\n",
       "      <th>Unnamed: 0</th>\n",
       "      <th>avg_shares</th>\n",
       "      <th>avg_comments</th>\n",
       "      <th>avg_expert</th>\n",
       "      <th>popularity_score</th>\n",
       "    </tr>\n",
       "  </thead>\n",
       "  <tbody>\n",
       "    <tr>\n",
       "      <td>0</td>\n",
       "      <td>19</td>\n",
       "      <td>147.3</td>\n",
       "      <td>23.9</td>\n",
       "      <td>19.1</td>\n",
       "      <td>14.6</td>\n",
       "    </tr>\n",
       "    <tr>\n",
       "      <td>1</td>\n",
       "      <td>91</td>\n",
       "      <td>28.6</td>\n",
       "      <td>1.5</td>\n",
       "      <td>33.0</td>\n",
       "      <td>7.3</td>\n",
       "    </tr>\n",
       "    <tr>\n",
       "      <td>2</td>\n",
       "      <td>166</td>\n",
       "      <td>17.9</td>\n",
       "      <td>37.6</td>\n",
       "      <td>21.6</td>\n",
       "      <td>8.0</td>\n",
       "    </tr>\n",
       "    <tr>\n",
       "      <td>3</td>\n",
       "      <td>196</td>\n",
       "      <td>94.2</td>\n",
       "      <td>4.9</td>\n",
       "      <td>8.1</td>\n",
       "      <td>9.7</td>\n",
       "    </tr>\n",
       "    <tr>\n",
       "      <td>4</td>\n",
       "      <td>42</td>\n",
       "      <td>293.6</td>\n",
       "      <td>27.7</td>\n",
       "      <td>1.8</td>\n",
       "      <td>20.7</td>\n",
       "    </tr>\n",
       "  </tbody>\n",
       "</table>\n",
       "</div>"
      ],
      "text/plain": [
       "   Unnamed: 0  avg_shares  avg_comments  avg_expert  popularity_score\n",
       "0          19       147.3          23.9        19.1              14.6\n",
       "1          91        28.6           1.5        33.0               7.3\n",
       "2         166        17.9          37.6        21.6               8.0\n",
       "3         196        94.2           4.9         8.1               9.7\n",
       "4          42       293.6          27.7         1.8              20.7"
      ]
     },
     "execution_count": 3,
     "metadata": {},
     "output_type": "execute_result"
    }
   ],
   "source": [
    "# 1.\n",
    "data = pd.read_csv('popularity.csv')\n",
    "pop_df = pd.DataFrame(data)\n",
    "pop_df.head()"
   ]
  },
  {
   "cell_type": "code",
   "execution_count": 4,
   "metadata": {},
   "outputs": [
    {
     "data": {
      "text/html": [
       "<div>\n",
       "<style scoped>\n",
       "    .dataframe tbody tr th:only-of-type {\n",
       "        vertical-align: middle;\n",
       "    }\n",
       "\n",
       "    .dataframe tbody tr th {\n",
       "        vertical-align: top;\n",
       "    }\n",
       "\n",
       "    .dataframe thead th {\n",
       "        text-align: right;\n",
       "    }\n",
       "</style>\n",
       "<table border=\"1\" class=\"dataframe\">\n",
       "  <thead>\n",
       "    <tr style=\"text-align: right;\">\n",
       "      <th></th>\n",
       "      <th>avg_shares</th>\n",
       "      <th>avg_comments</th>\n",
       "      <th>avg_expert</th>\n",
       "      <th>popularity_score</th>\n",
       "    </tr>\n",
       "  </thead>\n",
       "  <tbody>\n",
       "    <tr>\n",
       "      <td>0</td>\n",
       "      <td>147.3</td>\n",
       "      <td>23.9</td>\n",
       "      <td>19.1</td>\n",
       "      <td>14.6</td>\n",
       "    </tr>\n",
       "    <tr>\n",
       "      <td>1</td>\n",
       "      <td>28.6</td>\n",
       "      <td>1.5</td>\n",
       "      <td>33.0</td>\n",
       "      <td>7.3</td>\n",
       "    </tr>\n",
       "    <tr>\n",
       "      <td>2</td>\n",
       "      <td>17.9</td>\n",
       "      <td>37.6</td>\n",
       "      <td>21.6</td>\n",
       "      <td>8.0</td>\n",
       "    </tr>\n",
       "    <tr>\n",
       "      <td>3</td>\n",
       "      <td>94.2</td>\n",
       "      <td>4.9</td>\n",
       "      <td>8.1</td>\n",
       "      <td>9.7</td>\n",
       "    </tr>\n",
       "    <tr>\n",
       "      <td>4</td>\n",
       "      <td>293.6</td>\n",
       "      <td>27.7</td>\n",
       "      <td>1.8</td>\n",
       "      <td>20.7</td>\n",
       "    </tr>\n",
       "  </tbody>\n",
       "</table>\n",
       "</div>"
      ],
      "text/plain": [
       "   avg_shares  avg_comments  avg_expert  popularity_score\n",
       "0       147.3          23.9        19.1              14.6\n",
       "1        28.6           1.5        33.0               7.3\n",
       "2        17.9          37.6        21.6               8.0\n",
       "3        94.2           4.9         8.1               9.7\n",
       "4       293.6          27.7         1.8              20.7"
      ]
     },
     "execution_count": 4,
     "metadata": {},
     "output_type": "execute_result"
    }
   ],
   "source": [
    "# 1.1\n",
    "pop_df.drop(columns = ['Unnamed: 0'], inplace = True)\n",
    "pop_df.head()"
   ]
  },
  {
   "cell_type": "code",
   "execution_count": 5,
   "metadata": {},
   "outputs": [
    {
     "data": {
      "text/plain": [
       "avg_shares          1\n",
       "avg_comments        4\n",
       "avg_expert          0\n",
       "popularity_score    0\n",
       "dtype: int64"
      ]
     },
     "execution_count": 5,
     "metadata": {},
     "output_type": "execute_result"
    }
   ],
   "source": [
    "# 1.2\n",
    "pop_df.isnull().sum()\n",
    "# 1 null value in avg_shares, 4 null values in avg_comments"
   ]
  },
  {
   "cell_type": "code",
   "execution_count": 6,
   "metadata": {},
   "outputs": [
    {
     "data": {
      "text/plain": [
       "avg_shares          0\n",
       "avg_comments        0\n",
       "avg_expert          0\n",
       "popularity_score    0\n",
       "dtype: int64"
      ]
     },
     "execution_count": 6,
     "metadata": {},
     "output_type": "execute_result"
    }
   ],
   "source": [
    "pop_df['avg_shares'] = pop_df['avg_shares'].fillna(pop_df['avg_shares'].mean())\n",
    "pop_df['avg_comments'] = pop_df['avg_comments'].fillna(pop_df['avg_comments'].mean())\n",
    "pop_df.isnull().sum()\n",
    "# No null values in avg_shares and avg_comments"
   ]
  },
  {
   "cell_type": "code",
   "execution_count": 7,
   "metadata": {},
   "outputs": [
    {
     "data": {
      "image/png": "[encoded data removed]",
      "text/plain": [
       "<Figure size 432x288 with 1 Axes>"
      ]
     },
     "metadata": {
      "needs_background": "light"
     },
     "output_type": "display_data"
    }
   ],
   "source": [
    "# 1.3\n",
    "boxplot = pop_df.boxplot(column = ['avg_shares', 'avg_comments', 'avg_expert'], grid = False)\n",
    "plt.show()\n",
    "# 2 outliers in avg_expert"
   ]
  },
  {
   "cell_type": "code",
   "execution_count": 8,
   "metadata": {},
   "outputs": [
    {
     "data": {
      "text/html": [
       "<div>\n",
       "<style scoped>\n",
       "    .dataframe tbody tr th:only-of-type {\n",
       "        vertical-align: middle;\n",
       "    }\n",
       "\n",
       "    .dataframe tbody tr th {\n",
       "        vertical-align: top;\n",
       "    }\n",
       "\n",
       "    .dataframe thead th {\n",
       "        text-align: right;\n",
       "    }\n",
       "</style>\n",
       "<table border=\"1\" class=\"dataframe\">\n",
       "  <thead>\n",
       "    <tr style=\"text-align: right;\">\n",
       "      <th></th>\n",
       "      <th>avg_shares</th>\n",
       "      <th>avg_comments</th>\n",
       "      <th>avg_expert</th>\n",
       "      <th>popularity_score</th>\n",
       "    </tr>\n",
       "  </thead>\n",
       "  <tbody>\n",
       "    <tr>\n",
       "      <td>0</td>\n",
       "      <td>0.974525</td>\n",
       "      <td>0.158121</td>\n",
       "      <td>0.126364</td>\n",
       "      <td>0.096592</td>\n",
       "    </tr>\n",
       "    <tr>\n",
       "      <td>1</td>\n",
       "      <td>0.645597</td>\n",
       "      <td>0.033860</td>\n",
       "      <td>0.744919</td>\n",
       "      <td>0.164785</td>\n",
       "    </tr>\n",
       "    <tr>\n",
       "      <td>2</td>\n",
       "      <td>0.376136</td>\n",
       "      <td>0.790096</td>\n",
       "      <td>0.453885</td>\n",
       "      <td>0.168105</td>\n",
       "    </tr>\n",
       "    <tr>\n",
       "      <td>3</td>\n",
       "      <td>0.989807</td>\n",
       "      <td>0.051487</td>\n",
       "      <td>0.085111</td>\n",
       "      <td>0.101923</td>\n",
       "    </tr>\n",
       "    <tr>\n",
       "      <td>4</td>\n",
       "      <td>0.993117</td>\n",
       "      <td>0.093697</td>\n",
       "      <td>0.006089</td>\n",
       "      <td>0.070019</td>\n",
       "    </tr>\n",
       "  </tbody>\n",
       "</table>\n",
       "</div>"
      ],
      "text/plain": [
       "   avg_shares  avg_comments  avg_expert  popularity_score\n",
       "0    0.974525      0.158121    0.126364          0.096592\n",
       "1    0.645597      0.033860    0.744919          0.164785\n",
       "2    0.376136      0.790096    0.453885          0.168105\n",
       "3    0.989807      0.051487    0.085111          0.101923\n",
       "4    0.993117      0.093697    0.006089          0.070019"
      ]
     },
     "execution_count": 8,
     "metadata": {},
     "output_type": "execute_result"
    }
   ],
   "source": [
    "# 1.4\n",
    "pr.normalize(pop_df, copy = False)\n",
    "pop_df.head()"
   ]
  },
  {
   "cell_type": "code",
   "execution_count": 9,
   "metadata": {},
   "outputs": [
    {
     "data": {
      "image/png": "[encoded data removed]",
      "text/plain": [
       "<Figure size 720x720 with 20 Axes>"
      ]
     },
     "metadata": {
      "needs_background": "light"
     },
     "output_type": "display_data"
    }
   ],
   "source": [
    "# 2. \n",
    "sns.pairplot(pop_df)\n",
    "plt.show()"
   ]
  },
  {
   "cell_type": "code",
   "execution_count": 10,
   "metadata": {},
   "outputs": [],
   "source": [
    "# 3. \n",
    "from sklearn.model_selection import train_test_split\n",
    "\n",
    "x = pop_df.iloc[:, [0, 1, 2]].values\n",
    "y = pop_df.iloc[:, 3].values"
   ]
  },
  {
   "cell_type": "code",
   "execution_count": 11,
   "metadata": {},
   "outputs": [],
   "source": [
    "x_train, x_test, y_train, y_test = train_test_split(x, y, test_size = 0.3) "
   ]
  },
  {
   "cell_type": "code",
   "execution_count": 12,
   "metadata": {},
   "outputs": [],
   "source": [
    "# 4. \n",
    "from sklearn.linear_model import LinearRegression\n",
    "model = LinearRegression()\n",
    "result = model.fit(x_train, y_train)"
   ]
  },
  {
   "cell_type": "code",
   "execution_count": 13,
   "metadata": {},
   "outputs": [
    {
     "data": {
      "text/plain": [
       "array([0.12349675, 0.0985555 , 0.10471878, 0.1815277 , 0.10836966,\n",
       "       0.11563583, 0.08244853, 0.06759823, 0.06299155, 0.05798215,\n",
       "       0.11549113, 0.1616683 , 0.09405238, 0.0575021 , 0.0794636 ,\n",
       "       0.10185878, 0.08333367, 0.12591851, 0.06998855, 0.15183643,\n",
       "       0.16273462, 0.13210691, 0.1025094 , 0.13130542, 0.09804276,\n",
       "       0.17583597, 0.11626729, 0.08474351, 0.08163332, 0.09842324,\n",
       "       0.06261657, 0.08118654, 0.10584782, 0.07267477, 0.13134814,\n",
       "       0.0896856 , 0.13515915, 0.08026992, 0.16525492, 0.06879427,\n",
       "       0.10672371, 0.14227354, 0.09242331, 0.07537472, 0.10231605,\n",
       "       0.14117333, 0.08924783, 0.10993566, 0.10585049, 0.08529019,\n",
       "       0.05428182, 0.10379928, 0.07764548, 0.07179118, 0.07990781,\n",
       "       0.11777121, 0.08170963, 0.09159211, 0.07908739, 0.14397986])"
      ]
     },
     "execution_count": 13,
     "metadata": {},
     "output_type": "execute_result"
    }
   ],
   "source": [
    "pred = model.predict(x_test)\n",
    "pred"
   ]
  },
  {
   "cell_type": "code",
   "execution_count": 14,
   "metadata": {},
   "outputs": [
    {
     "name": "stdout",
     "output_type": "stream",
     "text": [
      "Coefficients :  [0.18063413 0.22822461 0.13566486]\n",
      "Intercept :  -0.13400247326024184\n"
     ]
    }
   ],
   "source": [
    "print(\"Coefficients : \", result.coef_)\n",
    "print(\"Intercept : \", result.intercept_)"
   ]
  },
  {
   "cell_type": "code",
   "execution_count": 15,
   "metadata": {},
   "outputs": [
    {
     "data": {
      "text/html": [
       "<table class=\"simpletable\">\n",
       "<caption>OLS Regression Results</caption>\n",
       "<tr>\n",
       "  <th>Dep. Variable:</th>    <td>popularity_score</td> <th>  R-squared:         </th> <td>   0.371</td>\n",
       "</tr>\n",
       "<tr>\n",
       "  <th>Model:</th>                   <td>OLS</td>       <th>  Adj. R-squared:    </th> <td>   0.362</td>\n",
       "</tr>\n",
       "<tr>\n",
       "  <th>Method:</th>             <td>Least Squares</td>  <th>  F-statistic:       </th> <td>   38.57</td>\n",
       "</tr>\n",
       "<tr>\n",
       "  <th>Date:</th>             <td>Thu, 10 Jun 2021</td> <th>  Prob (F-statistic):</th> <td>1.23e-19</td>\n",
       "</tr>\n",
       "<tr>\n",
       "  <th>Time:</th>                 <td>16:21:16</td>     <th>  Log-Likelihood:    </th> <td>  373.34</td>\n",
       "</tr>\n",
       "<tr>\n",
       "  <th>No. Observations:</th>      <td>   200</td>      <th>  AIC:               </th> <td>  -738.7</td>\n",
       "</tr>\n",
       "<tr>\n",
       "  <th>Df Residuals:</th>          <td>   196</td>      <th>  BIC:               </th> <td>  -725.5</td>\n",
       "</tr>\n",
       "<tr>\n",
       "  <th>Df Model:</th>              <td>     3</td>      <th>                     </th>     <td> </td>   \n",
       "</tr>\n",
       "<tr>\n",
       "  <th>Covariance Type:</th>      <td>nonrobust</td>    <th>                     </th>     <td> </td>   \n",
       "</tr>\n",
       "</table>\n",
       "<table class=\"simpletable\">\n",
       "<tr>\n",
       "        <td></td>          <th>coef</th>     <th>std err</th>      <th>t</th>      <th>P>|t|</th>  <th>[0.025</th>    <th>0.975]</th>  \n",
       "</tr>\n",
       "<tr>\n",
       "  <th>Intercept</th>    <td>   -0.0693</td> <td>    0.036</td> <td>   -1.950</td> <td> 0.053</td> <td>   -0.139</td> <td>    0.001</td>\n",
       "</tr>\n",
       "<tr>\n",
       "  <th>avg_shares</th>   <td>    0.1276</td> <td>    0.031</td> <td>    4.062</td> <td> 0.000</td> <td>    0.066</td> <td>    0.190</td>\n",
       "</tr>\n",
       "<tr>\n",
       "  <th>avg_comments</th> <td>    0.1965</td> <td>    0.024</td> <td>    8.032</td> <td> 0.000</td> <td>    0.148</td> <td>    0.245</td>\n",
       "</tr>\n",
       "<tr>\n",
       "  <th>avg_expert</th>   <td>    0.0968</td> <td>    0.021</td> <td>    4.582</td> <td> 0.000</td> <td>    0.055</td> <td>    0.139</td>\n",
       "</tr>\n",
       "</table>\n",
       "<table class=\"simpletable\">\n",
       "<tr>\n",
       "  <th>Omnibus:</th>       <td>272.330</td> <th>  Durbin-Watson:     </th> <td>   1.999</td> \n",
       "</tr>\n",
       "<tr>\n",
       "  <th>Prob(Omnibus):</th> <td> 0.000</td>  <th>  Jarque-Bera (JB):  </th> <td>25802.032</td>\n",
       "</tr>\n",
       "<tr>\n",
       "  <th>Skew:</th>          <td> 5.752</td>  <th>  Prob(JB):          </th> <td>    0.00</td> \n",
       "</tr>\n",
       "<tr>\n",
       "  <th>Kurtosis:</th>      <td>57.442</td>  <th>  Cond. No.          </th> <td>    27.7</td> \n",
       "</tr>\n",
       "</table><br/><br/>Notes:<br/>[1] Standard Errors assume that the covariance matrix of the errors is correctly specified."
      ],
      "text/plain": [
       "<class 'statsmodels.iolib.summary.Summary'>\n",
       "\"\"\"\n",
       "                            OLS Regression Results                            \n",
       "==============================================================================\n",
       "Dep. Variable:       popularity_score   R-squared:                       0.371\n",
       "Model:                            OLS   Adj. R-squared:                  0.362\n",
       "Method:                 Least Squares   F-statistic:                     38.57\n",
       "Date:                Thu, 10 Jun 2021   Prob (F-statistic):           1.23e-19\n",
       "Time:                        16:21:16   Log-Likelihood:                 373.34\n",
       "No. Observations:                 200   AIC:                            -738.7\n",
       "Df Residuals:                     196   BIC:                            -725.5\n",
       "Df Model:                           3                                         \n",
       "Covariance Type:            nonrobust                                         \n",
       "================================================================================\n",
       "                   coef    std err          t      P>|t|      [0.025      0.975]\n",
       "--------------------------------------------------------------------------------\n",
       "Intercept       -0.0693      0.036     -1.950      0.053      -0.139       0.001\n",
       "avg_shares       0.1276      0.031      4.062      0.000       0.066       0.190\n",
       "avg_comments     0.1965      0.024      8.032      0.000       0.148       0.245\n",
       "avg_expert       0.0968      0.021      4.582      0.000       0.055       0.139\n",
       "==============================================================================\n",
       "Omnibus:                      272.330   Durbin-Watson:                   1.999\n",
       "Prob(Omnibus):                  0.000   Jarque-Bera (JB):            25802.032\n",
       "Skew:                           5.752   Prob(JB):                         0.00\n",
       "Kurtosis:                      57.442   Cond. No.                         27.7\n",
       "==============================================================================\n",
       "\n",
       "Notes:\n",
       "[1] Standard Errors assume that the covariance matrix of the errors is correctly specified.\n",
       "\"\"\""
      ]
     },
     "execution_count": 15,
     "metadata": {},
     "output_type": "execute_result"
    }
   ],
   "source": [
    "m = sm.OLS.from_formula('popularity_score ~ avg_shares + avg_comments + avg_expert', data = pop_df)\n",
    "r = m.fit()\n",
    "r.summary()"
   ]
  },
  {
   "cell_type": "code",
   "execution_count": 16,
   "metadata": {},
   "outputs": [
    {
     "name": "stdout",
     "output_type": "stream",
     "text": [
      "                            OLS Regression Results                            \n",
      "==============================================================================\n",
      "Dep. Variable:       popularity_score   R-squared:                       0.371\n",
      "Model:                            OLS   Adj. R-squared:                  0.362\n",
      "Method:                 Least Squares   F-statistic:                     38.57\n",
      "Date:                Thu, 10 Jun 2021   Prob (F-statistic):           1.23e-19\n",
      "Time:                        16:21:16   Log-Likelihood:                 373.34\n",
      "No. Observations:                 200   AIC:                            -738.7\n",
      "Df Residuals:                     196   BIC:                            -725.5\n",
      "Df Model:                           3                                         \n",
      "Covariance Type:            nonrobust                                         \n",
      "================================================================================\n",
      "                   coef    std err          t      P>|t|      [0.025      0.975]\n",
      "--------------------------------------------------------------------------------\n",
      "Intercept       -0.0693      0.036     -1.950      0.053      -0.139       0.001\n",
      "avg_shares       0.1276      0.031      4.062      0.000       0.066       0.190\n",
      "avg_comments     0.1965      0.024      8.032      0.000       0.148       0.245\n",
      "avg_expert       0.0968      0.021      4.582      0.000       0.055       0.139\n",
      "==============================================================================\n",
      "Omnibus:                      272.330   Durbin-Watson:                   1.999\n",
      "Prob(Omnibus):                  0.000   Jarque-Bera (JB):            25802.032\n",
      "Skew:                           5.752   Prob(JB):                         0.00\n",
      "Kurtosis:                      57.442   Cond. No.                         27.7\n",
      "==============================================================================\n",
      "\n",
      "Notes:\n",
      "[1] Standard Errors assume that the covariance matrix of the errors is correctly specified.\n"
     ]
    }
   ],
   "source": [
    "# 5.\n",
    "mod = smf.ols(formula = 'popularity_score ~ avg_shares + avg_comments + avg_expert', data = pop_df)\n",
    "result = mod.fit()\n",
    "print(result.summary())\n",
    "# From the results below :\n",
    "        \n",
    "#     Variable        CI                       P\n",
    "#     avg_shares    (0.066 to 0.190)           0\n",
    "#   avg_comments    (0.148 to 0.245)           0\n",
    "#     avg_expert    (0.055 to 0.139)           0\n",
    "#      intercept   (-0.139 to 0.001)       0.053"
   ]
  },
  {
   "cell_type": "code",
   "execution_count": 17,
   "metadata": {},
   "outputs": [
    {
     "name": "stdout",
     "output_type": "stream",
     "text": [
      "0.001677999999999985\n"
     ]
    }
   ],
   "source": [
    "# confidence intervals : \n",
    "# b +- (t X S)\n",
    "# where b : Slope, t : t value, s : standard error : \n",
    "print(0.1276 - (4.062 * 0.031))       "
   ]
  },
  {
   "cell_type": "code",
   "execution_count": 18,
   "metadata": {},
   "outputs": [
    {
     "name": "stdout",
     "output_type": "stream",
     "text": [
      "RMSE :  0.05662519058632023\n",
      "MAE :  0.023606421372666157\n",
      "MSE :  0.003206412208937089\n"
     ]
    }
   ],
   "source": [
    "# 6. \n",
    "import math\n",
    "from sklearn.metrics import mean_squared_error, mean_absolute_error\n",
    "mse = mean_squared_error(y_test, pred)\n",
    "rmse = math.sqrt(mse)\n",
    "mae = mean_absolute_error(y_test, pred)\n",
    "print('RMSE : ', rmse)\n",
    "print('MAE : ', mae)\n",
    "print('MSE : ', mse)"
   ]
  },
  {
   "cell_type": "code",
   "execution_count": 19,
   "metadata": {},
   "outputs": [
    {
     "data": {
      "text/plain": [
       "<matplotlib.axes._subplots.AxesSubplot at 0x7ff51c769cd0>"
      ]
     },
     "execution_count": 19,
     "metadata": {},
     "output_type": "execute_result"
    },
    {
     "data": {
      "image/png": "[encoded data removed]",
      "text/plain": [
       "<Figure size 432x288 with 1 Axes>"
      ]
     },
     "metadata": {
      "needs_background": "light"
     },
     "output_type": "display_data"
    }
   ],
   "source": [
    "# 7. \n",
    "residuals = y_test - pred\n",
    "sns.residplot(x = residuals, y = pred, lowess = True)"
   ]
  },
  {
   "cell_type": "code",
   "execution_count": 20,
   "metadata": {},
   "outputs": [
    {
     "data": {
      "image/png": "[encoded data removed]",
      "text/plain": [
       "<Figure size 432x288 with 1 Axes>"
      ]
     },
     "metadata": {
      "needs_background": "light"
     },
     "output_type": "display_data"
    }
   ],
   "source": [
    "sm.qqplot(residuals, line = '45')\n",
    "plt.show()"
   ]
  },
  {
   "cell_type": "code",
   "execution_count": null,
   "metadata": {},
   "outputs": [],
   "source": []
  }
 ],
 "metadata": {
  "kernelspec": {
   "display_name": "Python 3",
   "language": "python",
   "name": "python3"
  },
  "language_info": {
   "codemirror_mode": {
    "name": "ipython",
    "version": 3
   },
   "file_extension": ".py",
   "mimetype": "text/x-python",
   "name": "python",
   "nbconvert_exporter": "python",
   "pygments_lexer": "ipython3",
   "version": "3.7.4"
  }
 },
 "nbformat": 4,
 "nbformat_minor": 2
}
